{
 "cells": [
  {
   "cell_type": "markdown",
   "id": "5889ce27-4ba2-42bf-8675-b4e3637a5e32",
   "metadata": {},
   "source": [
    "## Calculate similarity metric for real and forecasted protein 3d structure"
   ]
  },
  {
   "cell_type": "markdown",
   "id": "8c748484-c94b-4c44-87b2-5c6af5d26716",
   "metadata": {},
   "source": [
    "In the synthetic examples provided below, the second row in the coords1 array and the second row in the coords2 array are assumed to represent the same \"type\" of atom in their respective protein structures. In other words, they are considered to be corresponding atoms for the purpose of the RMSD (Root Mean Square Deviation) calculation. This is why the ordering is important: atoms in the same row position across the two matrices are assumed to correspond to each other.\n",
    "\n",
    "To illustrate, consider the following simplified coordinates:\n",
    "- coords1 has a second row of [4.0, 5.0, 6.0].\n",
    "- coords2 has a second row of [4.1, 5.1, 6.1].\n",
    "In this example, these two rows are assumed to represent the same atom in each of their respective structures. The RMSD calculation would then consider the distance between these two points as part of its overall computation.\n",
    "\n",
    "However, it's worth noting that in real-world applications, determining which atoms correspond between two different protein structures can be a non-trivial task that might involve sequence alignment or other advanced techniques to ensure a meaningful comparison. The synthetic example simplifies this by assuming that the atoms are already aligned in the arrays.\n",
    "\n",
    "To compare two protein 3D structures, one commonly used algorithm is the Root Mean Square Deviation (RMSD) algorithm, which measures the average distance between corresponding atoms in the two protein structures. Additionally, you may be interested in other metrics like the Template Modeling Score (TM-score) or Global Distance Test (GDT), but RMSD is one of the most straightforward and commonly used metrics."
   ]
  },
  {
   "cell_type": "code",
   "execution_count": null,
   "id": "92be734f-9804-48f7-b90e-c61aa950a65f",
   "metadata": {},
   "outputs": [],
   "source": [
    "from Bio.PDB import Superimposer\n",
    "import numpy as np"
   ]
  },
  {
   "cell_type": "code",
   "execution_count": 6,
   "id": "a85e84d0-b965-413f-987f-c3c9a19c8a63",
   "metadata": {},
   "outputs": [
    {
     "name": "stdout",
     "output_type": "stream",
     "text": [
      "RMSD: 17.32%\n"
     ]
    }
   ],
   "source": [
    "# Synthetic 3D coordinates for atoms in two protein structures\n",
    "coords1 = np.array([\n",
    "    [1.0, 2.0, 3.0],\n",
    "    [4.0, 5.0, 6.0],\n",
    "    [7.0, 8.0, 9.0],\n",
    "    [1.0, 2.0, 2.0],\n",
    "    [4.0, 2.0, 0.0]\n",
    "])\n",
    "\n",
    "coords2 = np.array([\n",
    "    [1.1, 2.1, 3.1],\n",
    "    [4.1, 5.1, 6.1],\n",
    "    [7.1, 8.1, 9.1],\n",
    "    [1.1, 2.1, 2.1],\n",
    "    [4.1, 2.1, 0.1]\n",
    "])\n",
    "\n",
    "# Calculate the RMSD\n",
    "def calculate_rmsd(coords1, coords2):\n",
    "    diff = coords1 - coords2\n",
    "    rmsd = np.sqrt(np.sum(diff * diff) / len(coords1))\n",
    "    return rmsd\n",
    "\n",
    "rmsd = calculate_rmsd(coords1, coords2)\n",
    "print(f\"RMSD: {rmsd:.2%}\")"
   ]
  }
 ],
 "metadata": {
  "kernelspec": {
   "display_name": "Python 3 (ipykernel)",
   "language": "python",
   "name": "python3"
  },
  "language_info": {
   "codemirror_mode": {
    "name": "ipython",
    "version": 3
   },
   "file_extension": ".py",
   "mimetype": "text/x-python",
   "name": "python",
   "nbconvert_exporter": "python",
   "pygments_lexer": "ipython3",
   "version": "3.9.13"
  }
 },
 "nbformat": 4,
 "nbformat_minor": 5
}
